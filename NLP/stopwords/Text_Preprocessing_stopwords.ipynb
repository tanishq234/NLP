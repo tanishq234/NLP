{
 "cells": [
  {
   "cell_type": "code",
   "execution_count": 34,
   "id": "d6d90203",
   "metadata": {},
   "outputs": [],
   "source": [
    "\n",
    "Paragraph=\"\"\"Dr. Avul Pakir Jainulabdeen Abdul Kalam, popularly known as A.P.J. Abdul Kalam, was one of India’s most respected scientists and the 11th President of India. Born on October 15, 1931, in the small town of Rameswaram in Tamil Nadu, Kalam came from a humble background. His father was a boat owner and imam of a local mosque, and despite financial hardships, Kalam was a bright student with a strong passion for learning. His early life was marked by discipline, simplicity, and a deep curiosity about science and flight. After graduating in physics from Saint Joseph’s College, Tiruchirappalli, he went on to study aerospace engineering at the Madras Institute of Technology. His determination and hard work laid the foundation for a life of extraordinary achievements.\n",
    "\n",
    "Dr. Kalam began his career at the Defence Research and Development Organisation (DRDO) and later moved to the Indian Space Research Organisation (ISRO), where he was the project director of India’s first satellite launch vehicle (SLV-III), which successfully deployed the Rohini satellite in orbit in 1980. This was a major milestone in India’s space program. Known for his significant contributions to India’s missile development programs, Kalam was instrumental in developing the Agni and Prithvi missiles, earning him the nickname “Missile Man of India.” His work in defense technology elevated India's position on the global stage and strengthened national security. He also played a pivotal role in India’s nuclear tests conducted at Pokhran in 1998, which made India a nuclear power.\n",
    "\n",
    "In 2002, Dr. Kalam was elected as the 11th President of India and served from 2002 to 2007. As President, he was admired across political lines for his integrity, simplicity, and vision for the country. He often referred to himself as the \"People's President\" due to his accessibility and connection with citizens, especially the youth. He strongly believed that the youth were the backbone of a nation and could shape its destiny through knowledge, innovation, and moral values. His books, especially Wings of Fire, Ignited Minds, and India 2020, have inspired countless young minds to dream big and serve the nation.\n",
    "\n",
    "Even after his presidency, Dr. Kalam remained deeply committed to education, innovation, and youth development. He continued to travel extensively across India, addressing students and motivating them to pursue excellence with a strong sense of national pride. He advocated for a developed India that is self-reliant in technology, education, and infrastructure. His life was a perfect example of how dedication, hard work, and humility can lead to greatness. On July 27, 2015, while delivering a lecture at the Indian Institute of Management Shillong, Dr. Kalam collapsed and passed away, doing what he loved most—interacting with students. His death was mourned by the entire nation. Today, Dr. A.P.J. Abdul Kalam remains a symbol of perseverance, inspiration, and patriotism, and his legacy continues to inspire generations of Indians to dream big and work tirelessly to turn those dreams into reality.\"\"\"\n",
    "\n"
   ]
  },
  {
   "cell_type": "code",
   "execution_count": 35,
   "id": "3d4ee088",
   "metadata": {},
   "outputs": [],
   "source": [
    "from nltk.stem import PorterStemmer"
   ]
  },
  {
   "cell_type": "code",
   "execution_count": 36,
   "id": "7f37b82c",
   "metadata": {},
   "outputs": [],
   "source": [
    "from nltk.corpus import stopwords"
   ]
  },
  {
   "cell_type": "code",
   "execution_count": 37,
   "id": "08730fcb",
   "metadata": {},
   "outputs": [
    {
     "name": "stderr",
     "output_type": "stream",
     "text": [
      "[nltk_data] Downloading package stopwords to\n",
      "[nltk_data]     C:\\Users\\hp\\AppData\\Roaming\\nltk_data...\n",
      "[nltk_data]   Package stopwords is already up-to-date!\n"
     ]
    },
    {
     "data": {
      "text/plain": [
       "True"
      ]
     },
     "execution_count": 37,
     "metadata": {},
     "output_type": "execute_result"
    }
   ],
   "source": [
    "import nltk\n",
    "nltk.download('stopwords')"
   ]
  },
  {
   "cell_type": "code",
   "execution_count": 38,
   "id": "c17bb3a7",
   "metadata": {},
   "outputs": [
    {
     "data": {
      "text/plain": [
       "['a',\n",
       " 'about',\n",
       " 'above',\n",
       " 'after',\n",
       " 'again',\n",
       " 'against',\n",
       " 'ain',\n",
       " 'all',\n",
       " 'am',\n",
       " 'an',\n",
       " 'and',\n",
       " 'any',\n",
       " 'are',\n",
       " 'aren',\n",
       " \"aren't\",\n",
       " 'as',\n",
       " 'at',\n",
       " 'be',\n",
       " 'because',\n",
       " 'been',\n",
       " 'before',\n",
       " 'being',\n",
       " 'below',\n",
       " 'between',\n",
       " 'both',\n",
       " 'but',\n",
       " 'by',\n",
       " 'can',\n",
       " 'couldn',\n",
       " \"couldn't\",\n",
       " 'd',\n",
       " 'did',\n",
       " 'didn',\n",
       " \"didn't\",\n",
       " 'do',\n",
       " 'does',\n",
       " 'doesn',\n",
       " \"doesn't\",\n",
       " 'doing',\n",
       " 'don',\n",
       " \"don't\",\n",
       " 'down',\n",
       " 'during',\n",
       " 'each',\n",
       " 'few',\n",
       " 'for',\n",
       " 'from',\n",
       " 'further',\n",
       " 'had',\n",
       " 'hadn',\n",
       " \"hadn't\",\n",
       " 'has',\n",
       " 'hasn',\n",
       " \"hasn't\",\n",
       " 'have',\n",
       " 'haven',\n",
       " \"haven't\",\n",
       " 'having',\n",
       " 'he',\n",
       " \"he'd\",\n",
       " \"he'll\",\n",
       " 'her',\n",
       " 'here',\n",
       " 'hers',\n",
       " 'herself',\n",
       " \"he's\",\n",
       " 'him',\n",
       " 'himself',\n",
       " 'his',\n",
       " 'how',\n",
       " 'i',\n",
       " \"i'd\",\n",
       " 'if',\n",
       " \"i'll\",\n",
       " \"i'm\",\n",
       " 'in',\n",
       " 'into',\n",
       " 'is',\n",
       " 'isn',\n",
       " \"isn't\",\n",
       " 'it',\n",
       " \"it'd\",\n",
       " \"it'll\",\n",
       " \"it's\",\n",
       " 'its',\n",
       " 'itself',\n",
       " \"i've\",\n",
       " 'just',\n",
       " 'll',\n",
       " 'm',\n",
       " 'ma',\n",
       " 'me',\n",
       " 'mightn',\n",
       " \"mightn't\",\n",
       " 'more',\n",
       " 'most',\n",
       " 'mustn',\n",
       " \"mustn't\",\n",
       " 'my',\n",
       " 'myself',\n",
       " 'needn',\n",
       " \"needn't\",\n",
       " 'no',\n",
       " 'nor',\n",
       " 'not',\n",
       " 'now',\n",
       " 'o',\n",
       " 'of',\n",
       " 'off',\n",
       " 'on',\n",
       " 'once',\n",
       " 'only',\n",
       " 'or',\n",
       " 'other',\n",
       " 'our',\n",
       " 'ours',\n",
       " 'ourselves',\n",
       " 'out',\n",
       " 'over',\n",
       " 'own',\n",
       " 're',\n",
       " 's',\n",
       " 'same',\n",
       " 'shan',\n",
       " \"shan't\",\n",
       " 'she',\n",
       " \"she'd\",\n",
       " \"she'll\",\n",
       " \"she's\",\n",
       " 'should',\n",
       " 'shouldn',\n",
       " \"shouldn't\",\n",
       " \"should've\",\n",
       " 'so',\n",
       " 'some',\n",
       " 'such',\n",
       " 't',\n",
       " 'than',\n",
       " 'that',\n",
       " \"that'll\",\n",
       " 'the',\n",
       " 'their',\n",
       " 'theirs',\n",
       " 'them',\n",
       " 'themselves',\n",
       " 'then',\n",
       " 'there',\n",
       " 'these',\n",
       " 'they',\n",
       " \"they'd\",\n",
       " \"they'll\",\n",
       " \"they're\",\n",
       " \"they've\",\n",
       " 'this',\n",
       " 'those',\n",
       " 'through',\n",
       " 'to',\n",
       " 'too',\n",
       " 'under',\n",
       " 'until',\n",
       " 'up',\n",
       " 've',\n",
       " 'very',\n",
       " 'was',\n",
       " 'wasn',\n",
       " \"wasn't\",\n",
       " 'we',\n",
       " \"we'd\",\n",
       " \"we'll\",\n",
       " \"we're\",\n",
       " 'were',\n",
       " 'weren',\n",
       " \"weren't\",\n",
       " \"we've\",\n",
       " 'what',\n",
       " 'when',\n",
       " 'where',\n",
       " 'which',\n",
       " 'while',\n",
       " 'who',\n",
       " 'whom',\n",
       " 'why',\n",
       " 'will',\n",
       " 'with',\n",
       " 'won',\n",
       " \"won't\",\n",
       " 'wouldn',\n",
       " \"wouldn't\",\n",
       " 'y',\n",
       " 'you',\n",
       " \"you'd\",\n",
       " \"you'll\",\n",
       " 'your',\n",
       " \"you're\",\n",
       " 'yours',\n",
       " 'yourself',\n",
       " 'yourselves',\n",
       " \"you've\"]"
      ]
     },
     "execution_count": 38,
     "metadata": {},
     "output_type": "execute_result"
    }
   ],
   "source": [
    "stopwords.words('english')"
   ]
  },
  {
   "cell_type": "code",
   "execution_count": 39,
   "id": "4c055ee2",
   "metadata": {},
   "outputs": [],
   "source": [
    "from nltk.stem import PorterStemmer"
   ]
  },
  {
   "cell_type": "code",
   "execution_count": 40,
   "id": "e8ee5e60",
   "metadata": {},
   "outputs": [],
   "source": [
    "stemmer=PorterStemmer()"
   ]
  },
  {
   "cell_type": "code",
   "execution_count": 41,
   "id": "d25a23a0",
   "metadata": {},
   "outputs": [],
   "source": [
    "sentences=nltk.sent_tokenize(Paragraph)"
   ]
  },
  {
   "cell_type": "code",
   "execution_count": 42,
   "id": "10ec9cf8",
   "metadata": {},
   "outputs": [
    {
     "data": {
      "text/plain": [
       "list"
      ]
     },
     "execution_count": 42,
     "metadata": {},
     "output_type": "execute_result"
    }
   ],
   "source": [
    "type(sentences)"
   ]
  },
  {
   "cell_type": "code",
   "execution_count": 43,
   "id": "2460810c",
   "metadata": {},
   "outputs": [],
   "source": [
    "## Apply stopwords and filter and then apply stemming\n",
    "\n",
    "for i in range(len(sentences)):\n",
    "    words=nltk.word_tokenize(sentences[i])\n",
    "    words=[stemmer.stem(word) for word in words if word not in set(stopwords.words('english'))]\n",
    "    sentences[i]=' '.join(words)  #converting all words into sentences"
   ]
  },
  {
   "cell_type": "code",
   "execution_count": 44,
   "id": "9ccbf952",
   "metadata": {},
   "outputs": [
    {
     "data": {
      "text/plain": [
       "['dr. avul pakir jainulabdeen abdul kalam , popularli known a.p.j .',\n",
       " 'abdul kalam , one india ’ respect scientist 11th presid india .',\n",
       " 'born octob 15 , 1931 , small town rameswaram tamil nadu , kalam came humbl background .',\n",
       " 'hi father boat owner imam local mosqu , despit financi hardship , kalam bright student strong passion learn .',\n",
       " 'hi earli life mark disciplin , simplic , deep curios scienc flight .',\n",
       " 'after graduat physic saint joseph ’ colleg , tiruchirapp , went studi aerospac engin madra institut technolog .',\n",
       " 'hi determin hard work laid foundat life extraordinari achiev .',\n",
       " 'dr. kalam began career defenc research develop organis ( drdo ) later move indian space research organis ( isro ) , project director india ’ first satellit launch vehicl ( slv-iii ) , success deploy rohini satellit orbit 1980 .',\n",
       " 'thi major mileston india ’ space program .',\n",
       " \"known signific contribut india ’ missil develop program , kalam instrument develop agni prithvi missil , earn nicknam “ missil man india. ” hi work defens technolog elev india 's posit global stage strengthen nation secur .\",\n",
       " 'he also play pivot role india ’ nuclear test conduct pokhran 1998 , made india nuclear power .',\n",
       " 'in 2002 , dr. kalam elect 11th presid india serv 2002 2007 .',\n",
       " 'as presid , admir across polit line integr , simplic , vision countri .',\n",
       " \"he often refer `` peopl 's presid '' due access connect citizen , especi youth .\",\n",
       " 'he strongli believ youth backbon nation could shape destini knowledg , innov , moral valu .',\n",
       " 'hi book , especi wing fire , ignit mind , india 2020 , inspir countless young mind dream big serv nation .',\n",
       " 'even presid , dr. kalam remain deepli commit educ , innov , youth develop .',\n",
       " 'he continu travel extens across india , address student motiv pursu excel strong sens nation pride .',\n",
       " 'he advoc develop india self-reli technolog , educ , infrastructur .',\n",
       " 'hi life perfect exampl dedic , hard work , humil lead great .',\n",
       " 'on juli 27 , 2015 , deliv lectur indian institut manag shillong , dr. kalam collaps pass away , love most—interact student .',\n",
       " 'hi death mourn entir nation .',\n",
       " 'today , dr. a.p.j .',\n",
       " 'abdul kalam remain symbol persever , inspir , patriot , legaci continu inspir gener indian dream big work tirelessli turn dream realiti .']"
      ]
     },
     "execution_count": 44,
     "metadata": {},
     "output_type": "execute_result"
    }
   ],
   "source": [
    "sentences"
   ]
  },
  {
   "cell_type": "code",
   "execution_count": 45,
   "id": "76609e3a",
   "metadata": {},
   "outputs": [],
   "source": [
    "from nltk.stem import SnowballStemmer\n",
    "Snowballstemmer=SnowballStemmer('english')"
   ]
  },
  {
   "cell_type": "code",
   "execution_count": 46,
   "id": "183a3d67",
   "metadata": {},
   "outputs": [],
   "source": [
    "## Apply stopwords and filter and then apply snowball stemming\n",
    "\n",
    "for i in range(len(sentences)):\n",
    "    words=nltk.word_tokenize(sentences[i])\n",
    "    words=[Snowballstemmer.stem(word) for word in words if word not in set(stopwords.words('english'))]\n",
    "    sentences[i]=' '.join(words)  #converting all words into sentences"
   ]
  },
  {
   "cell_type": "code",
   "execution_count": 47,
   "id": "7d684efe",
   "metadata": {},
   "outputs": [
    {
     "data": {
      "text/plain": [
       "['dr. avul pakir jainulabdeen abdul kalam , popular known a.p.j .',\n",
       " 'abdul kalam , one india ’ respect scientist 11th presid india .',\n",
       " 'born octob 15 , 1931 , small town rameswaram tamil nadu , kalam came humbl background .',\n",
       " 'hi father boat owner imam local mosqu , despit financ hardship , kalam bright student strong passion learn .',\n",
       " 'hi ear life mark disciplin , simplic , deep curio scienc flight .',\n",
       " 'graduat physic saint joseph ’ colleg , tiruchirapp , went studi aerospac engin madra institut technolog .',\n",
       " 'hi determin hard work laid foundat life extraordinari achiev .',\n",
       " 'dr. kalam began career defenc research develop organi ( drdo ) later move indian space research organi ( isro ) , project director india ’ first satellit launch vehicl ( slv-iii ) , success deploy rohini satellit orbit 1980 .',\n",
       " 'thi major mileston india ’ space program .',\n",
       " \"known signif contribut india ’ missil develop program , kalam instrument develop agni prithvi missil , earn nicknam “ missil man india . ” hi work defen technolog elev india 's posit global stage strengthen nation secur .\",\n",
       " 'also play pivot role india ’ nuclear test conduct pokhran 1998 , made india nuclear power .',\n",
       " '2002 , dr. kalam elect 11th presid india serv 2002 2007 .',\n",
       " 'presid , admir across polit line integr , simplic , vision countri .',\n",
       " \"often refer `` peopl 's presid `` due access connect citizen , especi youth .\",\n",
       " 'strong believ youth backbon nation could shape destini knowledg , innov , moral valu .',\n",
       " 'hi book , especi wing fire , ignit mind , india 2020 , inspir countless young mind dream big serv nation .',\n",
       " 'even presid , dr. kalam remain deepli commit educ , innov , youth develop .',\n",
       " 'continu travel exten across india , address student motiv pursu excel strong sen nation pride .',\n",
       " 'advoc develop india self-r technolog , educ , infrastructur .',\n",
       " 'hi life perfect exampl dedic , hard work , humil lead great .',\n",
       " 'juli 27 , 2015 , deliv lectur indian institut manag shillong , dr. kalam collap pass away , love most—interact student .',\n",
       " 'hi death mourn entir nation .',\n",
       " 'today , dr. a.p.j .',\n",
       " 'abdul kalam remain symbol persev , inspir , patriot , legaci continu inspir gener indian dream big work tireless turn dream realiti .']"
      ]
     },
     "execution_count": 47,
     "metadata": {},
     "output_type": "execute_result"
    }
   ],
   "source": [
    "sentences"
   ]
  },
  {
   "cell_type": "code",
   "execution_count": 48,
   "id": "7e98a1b2",
   "metadata": {},
   "outputs": [],
   "source": [
    "from nltk.stem import WordNetLemmatizer"
   ]
  },
  {
   "cell_type": "code",
   "execution_count": 49,
   "id": "297df028",
   "metadata": {},
   "outputs": [],
   "source": [
    "lemmatizer= WordNetLemmatizer()"
   ]
  },
  {
   "cell_type": "code",
   "execution_count": 52,
   "id": "85079297",
   "metadata": {},
   "outputs": [],
   "source": [
    "## Apply stopwords and filter and then apply lemmatizer\n",
    "\n",
    "for i in range(len(sentences)):\n",
    "    #sentences[i]=sentences[i].tolower()\n",
    "    words=nltk.word_tokenize(sentences[i])\n",
    "    words=[lemmatizer.lemmatize(word.lower(),pos='v') for word in words if word not in set(stopwords.words('english'))]\n",
    "    sentences[i]=' '.join(words)  #converting all words into sentences"
   ]
  },
  {
   "cell_type": "code",
   "execution_count": 53,
   "id": "88011033",
   "metadata": {},
   "outputs": [
    {
     "data": {
      "text/plain": [
       "['dr. avul pakir jainulabdeen abdul kalam , popular know a.p.j .',\n",
       " 'abdul kalam , one india ’ respect scientist 11th presid india .',\n",
       " 'bear octob 15 , 1931 , small town rameswaram tamil nadu , kalam come humbl background .',\n",
       " 'hi father boat owner imam local mosqu , despit financ hardship , kalam bright student strong passion learn .',\n",
       " 'hi ear life mark disciplin , simplic , deep curio scienc flight .',\n",
       " 'graduat physic saint joseph ’ colleg , tiruchirapp , go studi aerospac engin madra institut technolog .',\n",
       " 'hi determin hard work lay foundat life extraordinari achiev .',\n",
       " 'dr. kalam begin career defenc research develop organi ( drdo ) later move indian space research organi ( isro ) , project director india ’ first satellit launch vehicl ( slv-iii ) , success deploy rohini satellit orbit 1980 .',\n",
       " 'thi major mileston india ’ space program .',\n",
       " \"know signif contribut india ’ missil develop program , kalam instrument develop agni prithvi missil , earn nicknam “ missil man india . ” hi work defen technolog elev india 's posit global stage strengthen nation secur .\",\n",
       " 'also play pivot role india ’ nuclear test conduct pokhran 1998 , make india nuclear power .',\n",
       " '2002 , dr. kalam elect 11th presid india serv 2002 2007 .',\n",
       " 'presid , admir across polit line integr , simplic , vision countri .',\n",
       " \"often refer `` peopl 's presid `` due access connect citizen , especi youth .\",\n",
       " 'strong believ youth backbon nation could shape destini knowledg , innov , moral valu .',\n",
       " 'hi book , especi wing fire , ignit mind , india 2020 , inspir countless young mind dream big serv nation .',\n",
       " 'even presid , dr. kalam remain deepli commit educ , innov , youth develop .',\n",
       " 'continu travel exten across india , address student motiv pursu excel strong sen nation pride .',\n",
       " 'advoc develop india self-r technolog , educ , infrastructur .',\n",
       " 'hi life perfect exampl dedic , hard work , humil lead great .',\n",
       " 'juli 27 , 2015 , deliv lectur indian institut manag shillong , dr. kalam collap pass away , love most—interact student .',\n",
       " 'hi death mourn entir nation .',\n",
       " 'today , dr. a.p.j .',\n",
       " 'abdul kalam remain symbol persev , inspir , patriot , legaci continu inspir gener indian dream big work tireless turn dream realiti .']"
      ]
     },
     "execution_count": 53,
     "metadata": {},
     "output_type": "execute_result"
    }
   ],
   "source": [
    "sentences"
   ]
  },
  {
   "cell_type": "code",
   "execution_count": null,
   "id": "86d0bba3",
   "metadata": {},
   "outputs": [],
   "source": []
  }
 ],
 "metadata": {
  "kernelspec": {
   "display_name": "base",
   "language": "python",
   "name": "python3"
  },
  "language_info": {
   "codemirror_mode": {
    "name": "ipython",
    "version": 3
   },
   "file_extension": ".py",
   "mimetype": "text/x-python",
   "name": "python",
   "nbconvert_exporter": "python",
   "pygments_lexer": "ipython3",
   "version": "3.12.4"
  }
 },
 "nbformat": 4,
 "nbformat_minor": 5
}
