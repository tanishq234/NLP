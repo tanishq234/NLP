{
 "cells": [
  {
   "cell_type": "code",
   "execution_count": 1,
   "id": "2dc59726",
   "metadata": {},
   "outputs": [
    {
     "data": {
      "text/plain": [
       "'\\nPerson Eg: Krish C Naik\\nPlace Or Location Eg: India\\nDate Eg: September, 24-09-1989\\nTime Eg: 4:30pm\\nMoney Eg: 1 million dollar \\nOrganization Eg: iNeuron Private Limited\\nPercent Eg: 20%, twenty percent\\n'"
      ]
     },
     "execution_count": 1,
     "metadata": {},
     "output_type": "execute_result"
    }
   ],
   "source": [
    "sentences=\"The Eiffel Tower was built from 1887 to 1889 by french engineer Gustave Eiffel, whose company specialized in building metal frameworks and structures.\"\n",
    "\n",
    "\"\"\"\n",
    "Person Eg: Krish C Naik\n",
    "Place Or Location Eg: India\n",
    "Date Eg: September, 24-09-1989\n",
    "Time Eg: 4:30pm\n",
    "Money Eg: 1 million dollar \n",
    "Organization Eg: iNeuron Private Limited\n",
    "Percent Eg: 20%, twenty percent\n",
    "\"\"\""
   ]
  },
  {
   "cell_type": "code",
   "execution_count": 2,
   "id": "89551161",
   "metadata": {},
   "outputs": [],
   "source": [
    "sentence=\"The Eiffel Tower was built from 1887 to 1889 by french engineer Gustave Eiffel, whose company specialized in building metal frameworks and structures.\"\n"
   ]
  },
  {
   "cell_type": "code",
   "execution_count": 3,
   "id": "c10ec164",
   "metadata": {},
   "outputs": [],
   "source": [
    "import nltk\n",
    "word=nltk.word_tokenize(sentence)"
   ]
  },
  {
   "cell_type": "code",
   "execution_count": 4,
   "id": "3a3d8360",
   "metadata": {},
   "outputs": [],
   "source": [
    "tag_elements=nltk.pos_tag(word)"
   ]
  },
  {
   "cell_type": "code",
   "execution_count": 5,
   "id": "9c585c0d",
   "metadata": {},
   "outputs": [
    {
     "name": "stderr",
     "output_type": "stream",
     "text": [
      "[nltk_data] Error loading maxent_ne_chunker: <urlopen error [Errno\n",
      "[nltk_data]     11002] getaddrinfo failed>\n"
     ]
    },
    {
     "data": {
      "text/plain": [
       "False"
      ]
     },
     "execution_count": 5,
     "metadata": {},
     "output_type": "execute_result"
    }
   ],
   "source": [
    "nltk.download('maxent_ne_chunker')\n"
   ]
  },
  {
   "cell_type": "code",
   "execution_count": 6,
   "id": "498cda99",
   "metadata": {},
   "outputs": [
    {
     "name": "stderr",
     "output_type": "stream",
     "text": [
      "[nltk_data] Error loading words: <urlopen error [Errno 11002]\n",
      "[nltk_data]     getaddrinfo failed>\n"
     ]
    },
    {
     "data": {
      "text/plain": [
       "False"
      ]
     },
     "execution_count": 6,
     "metadata": {},
     "output_type": "execute_result"
    }
   ],
   "source": [
    "nltk.download('words')"
   ]
  },
  {
   "cell_type": "code",
   "execution_count": null,
   "id": "d5d01022",
   "metadata": {},
   "outputs": [],
   "source": [
    "nltk.ne_chunk(tag_elements).draw()"
   ]
  },
  {
   "cell_type": "code",
   "execution_count": null,
   "id": "90718f21",
   "metadata": {},
   "outputs": [],
   "source": []
  }
 ],
 "metadata": {
  "kernelspec": {
   "display_name": "base",
   "language": "python",
   "name": "python3"
  },
  "language_info": {
   "codemirror_mode": {
    "name": "ipython",
    "version": 3
   },
   "file_extension": ".py",
   "mimetype": "text/x-python",
   "name": "python",
   "nbconvert_exporter": "python",
   "pygments_lexer": "ipython3",
   "version": "3.12.4"
  }
 },
 "nbformat": 4,
 "nbformat_minor": 5
}
